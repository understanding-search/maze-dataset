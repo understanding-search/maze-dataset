{
 "cells": [
  {
   "cell_type": "code",
   "execution_count": null,
   "metadata": {},
   "outputs": [],
   "source": [
    "from pathlib import Path\n",
    "\n",
    "import matplotlib.pyplot as plt\n",
    "import numpy as np\n",
    "\n",
    "IN_NOTEBOOK: bool = \"__vsc_ipynb_file__\" in globals()\n",
    "\n",
    "# import pysr before torch to avoid\n",
    "# UserWarning: torch was imported before juliacall. This may cause a segfault. To avoid this, import juliacall before importing torch. For updates, see https://github.com/pytorch/pytorch/issues/78829.\n",
    "# doing the PYSR fit is expensive and takes *forever* in CI and tests, so we only do it in the notebook itself\n",
    "if IN_NOTEBOOK:\n",
    "\timport pysr  # noqa: F401\n",
    "\n",
    "from zanj import ZANJ\n",
    "\n",
    "from maze_dataset import LatticeMazeGenerators, MazeDataset, MazeDatasetConfig\n",
    "from maze_dataset.benchmark.config_sweep import (\n",
    "\tSweepResult,\n",
    "\tdataset_success_fraction,\n",
    "\tfull_percolation_analysis,\n",
    "\tplot_grouped,\n",
    ")\n",
    "from maze_dataset.benchmark.sweep_fit import sweep_fit\n",
    "\n",
    "# we want to ensure matplotlib is imported at the top and the formatter doesn't remove it\n",
    "# so that figures are not created during notebook tests\n",
    "assert plt"
   ]
  },
  {
   "cell_type": "markdown",
   "metadata": {},
   "source": [
    "# run a basic analysis"
   ]
  },
  {
   "cell_type": "code",
   "execution_count": null,
   "metadata": {},
   "outputs": [],
   "source": [
    "# Run the analysis\n",
    "results: SweepResult = SweepResult.analyze(\n",
    "\tconfigs=[\n",
    "\t\tMazeDatasetConfig(\n",
    "\t\t\tname=f\"g{grid_n}-perc\",\n",
    "\t\t\tgrid_n=grid_n,\n",
    "\t\t\tn_mazes=32,\n",
    "\t\t\tmaze_ctor=LatticeMazeGenerators.gen_percolation,\n",
    "\t\t\tmaze_ctor_kwargs=dict(),\n",
    "\t\t\tendpoint_kwargs=dict(\n",
    "\t\t\t\tdeadend_start=False,\n",
    "\t\t\t\tdeadend_end=False,\n",
    "\t\t\t\tendpoints_not_equal=False,\n",
    "\t\t\t\texcept_on_no_valid_endpoint=False,\n",
    "\t\t\t),\n",
    "\t\t)\n",
    "\t\tfor grid_n in [2, 4, 6]\n",
    "\t],\n",
    "\tparam_values=np.linspace(0.0, 1.0, 16).tolist(),\n",
    "\tparam_key=\"maze_ctor_kwargs.p\",\n",
    "\tanalyze_func=dataset_success_fraction,\n",
    "\tparallel=False,\n",
    ")\n",
    "\n",
    "# Plot results\n",
    "results.plot(save_path=None, cfg_keys=[\"n_mazes\", \"endpoint_kwargs\"])"
   ]
  },
  {
   "cell_type": "markdown",
   "metadata": {},
   "source": [
    "\n",
    "## check saving/loading"
   ]
  },
  {
   "cell_type": "code",
   "execution_count": null,
   "metadata": {},
   "outputs": [],
   "source": [
    "path = Path(\"../tests/_temp/dataset_frac_sweep/results_small.zanj\")\n",
    "results.save(path)\n",
    "ZANJ().read(path).plot(cfg_keys=[\"n_mazes\", \"endpoint_kwargs\"])"
   ]
  },
  {
   "cell_type": "markdown",
   "metadata": {},
   "source": [
    "# sweep acrossall endpoint kwargs and generator funcs "
   ]
  },
  {
   "cell_type": "code",
   "execution_count": null,
   "metadata": {},
   "outputs": [],
   "source": [
    "results_sweep: SweepResult = full_percolation_analysis(\n",
    "\tn_mazes=8,\n",
    "\tp_val_count=11,\n",
    "\tgrid_sizes=[2, 4],\n",
    "\tparallel=False,\n",
    "\tsave_dir=Path(\"tests/_temp/dataset_frac_sweep\"),\n",
    ")"
   ]
  },
  {
   "cell_type": "code",
   "execution_count": null,
   "metadata": {},
   "outputs": [],
   "source": [
    "results_medium: SweepResult = SweepResult.read(\n",
    "\t\"../docs/benchmarks/percolation_fractions/medium/result-n128-c42-p50.zanj\",\n",
    "\t# \"../docs/benchmarks/percolation_fractions/large/result-n256-c54-p100.zanj\"\n",
    ")\n",
    "\n",
    "plot_grouped(\n",
    "\tresults_medium,\n",
    "\tpredict_fn=lambda x: x.success_fraction_estimate(),\n",
    "\tprediction_density=10,\n",
    "\tfigsize=(10, 4),\n",
    "\t# for paper version\n",
    "\t# prediction_density=100,\n",
    "\t# figsize=(11, 4),\n",
    "\t# save_fmt=\"pdf\",\n",
    "\t# save_dir=Path(\"../docs/paper/figures/ep\"),\n",
    "\t# minify_title=True,\n",
    "\t# legend_kwargs=dict(loc=\"center right\", ncol=1, bbox_to_anchor=(1.14, 0.5)),\n",
    "\t# manual_titles=dict(\n",
    "\t# \tx=\"percolation probability $p$\",\n",
    "\t# \ty=\"success fraction\",\n",
    "\t# \ttitle=\"\",\n",
    "\t# ),\n",
    ")"
   ]
  },
  {
   "cell_type": "markdown",
   "metadata": {},
   "source": [
    "# perform a pysr regression on a dataset we load"
   ]
  },
  {
   "cell_type": "code",
   "execution_count": null,
   "metadata": {},
   "outputs": [],
   "source": [
    "DATA_PATH_DIR: Path = Path(\"../docs/benchmarks/percolation_fractions/\")\n",
    "# DATA_PATH: str = DATA_PATH_DIR / \"large/result-n256-c54-p100.zanj\"\n",
    "# DATA_PATH: str = DATA_PATH_DIR / \"medium/result-n128-c42-p50.zanj\"\n",
    "DATA_PATH: str = DATA_PATH_DIR / \"small/result-n64-c30-p25.zanj\"\n",
    "# DATA_PATH: str = DATA_PATH_DIR / \"test/result-n16-c12-p16.zanj\"\n",
    "\n",
    "if IN_NOTEBOOK:\n",
    "\tsweep_fit(\n",
    "\t\tDATA_PATH,\n",
    "\t\tPath(\"tests/_temp/fit_plots/\"),\n",
    "\t\tniterations=3,\n",
    "\t)"
   ]
  },
  {
   "cell_type": "markdown",
   "metadata": {},
   "source": [
    "# interactive plots for figuring out `maze_dataset.math.soft_step()`"
   ]
  },
  {
   "cell_type": "code",
   "execution_count": null,
   "metadata": {},
   "outputs": [],
   "source": [
    "# Run the interactive visualization if in a Jupyter notebook\n",
    "if IN_NOTEBOOK:\n",
    "\tfrom maze_dataset.benchmark.sweep_fit import create_interactive_plot\n",
    "\n",
    "\tcreate_interactive_plot(True)"
   ]
  },
  {
   "cell_type": "code",
   "execution_count": null,
   "metadata": {},
   "outputs": [],
   "source": [
    "cfg = MazeDatasetConfig(\n",
    "\tname=\"test\",\n",
    "\tseed=3,\n",
    "\tgrid_n=5,\n",
    "\tn_mazes=10,\n",
    "\tmaze_ctor=LatticeMazeGenerators.gen_dfs_percolation,\n",
    "\tmaze_ctor_kwargs=dict(p=0.7),\n",
    "\tendpoint_kwargs=dict(\n",
    "\t\tdeadend_start=True,\n",
    "\t\t# deadend_end=True,\n",
    "\t\tendpoints_not_equal=True,\n",
    "\t\texcept_on_no_valid_endpoint=False,\n",
    "\t),\n",
    ")\n",
    "\n",
    "print(f\"{cfg.success_fraction_estimate() = }\")\n",
    "cfg_new = cfg.success_fraction_compensate()\n",
    "print(f\"{cfg_new.n_mazes = }\")"
   ]
  },
  {
   "cell_type": "code",
   "execution_count": null,
   "metadata": {},
   "outputs": [],
   "source": [
    "len(MazeDataset.from_config(cfg_new))"
   ]
  }
 ],
 "metadata": {
  "kernelspec": {
   "display_name": ".venv",
   "language": "python",
   "name": "python3"
  },
  "language_info": {
   "codemirror_mode": {
    "name": "ipython",
    "version": 3
   },
   "file_extension": ".py",
   "mimetype": "text/x-python",
   "name": "python",
   "nbconvert_exporter": "python",
   "pygments_lexer": "ipython3",
   "version": "3.13.2"
  }
 },
 "nbformat": 4,
 "nbformat_minor": 2
}
