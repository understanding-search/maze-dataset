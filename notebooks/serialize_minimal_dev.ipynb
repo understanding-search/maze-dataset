{
 "cells": [
  {
   "cell_type": "markdown",
   "metadata": {},
   "source": [
    "# Profile of `maze_dataset` Dumping and Loading"
   ]
  },
  {
   "cell_type": "code",
   "execution_count": 1,
   "metadata": {},
   "outputs": [],
   "source": [
    "# import copy\n",
    "import os\n",
    "from pathlib import Path\n",
    "\n",
    "import numpy as np\n",
    "import pandas as pd\n",
    "import matplotlib.pyplot as plt\n",
    "import pytest\n",
    "import timeit\n",
    "from typing import Callable\n",
    "\n",
    "# from maze_dataset.constants import CoordArray\n",
    "# from maze_dataset.dataset.dataset import (\n",
    "#     register_dataset_filter,\n",
    "#     register_filter_namespace_for_dataset,\n",
    "# )\n",
    "from maze_dataset.dataset.maze_dataset import (\n",
    "    MazeDataset,\n",
    "    MazeDatasetConfig,\n",
    "    # register_maze_filter,\n",
    ")\n",
    "# from maze_dataset.maze import SolvedMaze\n",
    "# from maze_dataset.utils import bool_array_from_string\n",
    "# from maze_dataset.plotting import plot_dataset_mazes, print_dataset_mazes\n",
    "from maze_dataset.generation.generators import GENERATORS_MAP\n",
    "\n",
    "from zanj import ZANJ"
   ]
  },
  {
   "cell_type": "markdown",
   "metadata": {},
   "source": [
    "## Generate Datasets\n"
   ]
  },
  {
   "cell_type": "code",
   "execution_count": 2,
   "metadata": {},
   "outputs": [],
   "source": [
    "cfgs = [MazeDatasetConfig(name=\"test\", grid_n=grid_n, n_mazes=n_mazes, maze_ctor=maze_ctor, maze_ctor_kwargs=maze_ctor_kwargs) \n",
    "        for grid_n, n_mazes, maze_ctor, maze_ctor_kwargs in [\n",
    "                (3, 2, GENERATORS_MAP['gen_dfs'], {}), \n",
    "                (5, 10, GENERATORS_MAP['gen_dfs'], dict(do_forks=False)), \n",
    "                (5, 10, GENERATORS_MAP['gen_dfs'], {}), \n",
    "                (5, 100, GENERATORS_MAP['gen_dfs'], {}), \n",
    "                # (5, 1000, GENERATORS_MAP['gen_dfs'], {}),\n",
    "                # (5, 10000, GENERATORS_MAP['gen_dfs'], {}), \n",
    "                # (10, 1000, GENERATORS_MAP['gen_dfs'], {}),\n",
    "                ]]\n",
    "datasets = [MazeDataset.generate(cfg, gen_parallel=False) for cfg in cfgs]"
   ]
  },
  {
   "cell_type": "markdown",
   "metadata": {},
   "source": [
    "## Profile"
   ]
  },
  {
   "cell_type": "code",
   "execution_count": 3,
   "metadata": {},
   "outputs": [],
   "source": [
    "def quicktimeit(\n",
    "    cmd: Callable[[], any]|str, \n",
    "    setup:str = lambda: None, \n",
    "    repeats:int = 5, \n",
    "    total_runtime:float = 1.0, \n",
    "    namespace:dict[str, any]|None=None, \n",
    "    get_return=False\n",
    "    ):\n",
    "    \"\"\"\n",
    "    Wrapper for `timeit` to get the fastest run of a callable.\n",
    "    `total_runtime`: Indication of the rough total wall clock time in seconds the call to `quicktimeit` should take.\n",
    "    If a single execution of `cmd` takes longer than `total_runtime/repeats`, then `total_rutime` may still be greatly exceeded.\n",
    "    `namespace`: Passed to `timeit.Timer` constructor. \n",
    "    If `cmd` or `setup` use local or global variables, they must be passed here. See `timeit` documentation for details.\n",
    "    `get_return`: Whether to pass the value returned from `cmd`. If True, the return value will be appended in a tuple with execution time.\n",
    "    This is for speed and convenience so that `cmd` doesn't need to be run again in the calling scope if the return values are needed.\n",
    "    `get_return` is only supported\n",
    "    \"\"\"\n",
    "    timer = timeit.Timer(cmd, setup, globals=namespace)\n",
    "    n, _ = timer.autorange()\n",
    "    num = max(round(n/(0.2/(total_runtime/repeats))),1)  # 0.2s is the default time per repeat used in `timeit.autorange`.\n",
    "    min_time = min([t/num for t in timer.repeat(repeats, num)]) # timeit documentation recommends using the fastest run, ignoring \n",
    "    if get_return:\n",
    "        if isinstance(cmd, str):\n",
    "            raise TypeError(f'`cmd` must be a callable if `get_return=True`, not type {type(cmd)}.')\n",
    "            # Support for `str` types could be added if it were allowable to use the `exec` command.\n",
    "        return min_time, cmd()\n",
    "    return min_time\n",
    "\n",
    "\n",
    "# b = quicktimeit(lambda: datasets[0].serialize(), get_return=True)\n",
    "# foo = ' Foo bar '\n",
    "# b = quicktimeit(lambda: foo.split('o'), total_runtime=2, repeats=5, namespace=None, get_return=True)\n",
    "# b"
   ]
  },
  {
   "cell_type": "code",
   "execution_count": 4,
   "metadata": {},
   "outputs": [],
   "source": [
    "columns=['grid_n', 'n_mazes', 'serialize', 'serialize_minimal', 'load', 'load_minimal', 'save', 'save_minimal', 'read', 'read_minimal']\n",
    "speeds = pd.DataFrame(np.zeros([len(cfgs), len(columns)]), columns=columns)\n",
    "speeds.grid_n = [c.grid_n for c in cfgs]\n",
    "speeds.n_mazes = [c.n_mazes for c in cfgs]"
   ]
  },
  {
   "cell_type": "code",
   "execution_count": 5,
   "metadata": {},
   "outputs": [
    {
     "name": "stdout",
     "output_type": "stream",
     "text": [
      "MazeDatasetConfig(name='test', seq_len_min=1, seq_len_max=512, seed=42, applied_filters=[], grid_n=3, n_mazes=2, maze_ctor=<function LatticeMazeGenerators.gen_dfs at 0x00000204F6FB13F0>, maze_ctor_kwargs={})\n"
     ]
    }
   ],
   "source": [
    "zanj = ZANJ()\n",
    "\n",
    "for i, d in enumerate(datasets):\n",
    "    # if i not in range(0,3): continue\n",
    "    print(d.cfg)\n",
    "    speeds.loc[i, 'serialize']        , s    = quicktimeit(d.serialize, get_return=True)\n",
    "    speeds.loc[i, 'serialize_minimal'], smin = quicktimeit(d.serialize_minimal, get_return=True)\n",
    "    # speeds.loc[i, 'load']                    = quicktimeit(lambda: MazeDataset.load(s))\n",
    "    # speeds.loc[i, 'load_minimal']            = quicktimeit(lambda: MazeDataset.load(smin))\n",
    "    p = Path(os.getcwd())/(d.cfg.to_fname()+'.zanj')\n",
    "    p_min = p = Path(os.getcwd())/(d.cfg.to_fname()+'_min.zanj')\n",
    "    speeds.loc[i, 'save']                    = quicktimeit(lambda: d.save(file_path=p))\n",
    "    speeds.loc[i, 'save_minimal']            = quicktimeit(lambda: d.save(file_path=p_min))\n",
    "    speeds.loc[i, 'read'], rt                = quicktimeit(lambda: MazeDataset.read(file_path=p), get_return=True)\n",
    "    speeds.loc[i, 'read_minimal'], rt_min    = quicktimeit(lambda: MazeDataset.read(file_path=p_min), get_return=True)\n",
    "    rt\n",
    "    "
   ]
  },
  {
   "cell_type": "code",
   "execution_count": 24,
   "metadata": {},
   "outputs": [
    {
     "data": {
      "text/plain": [
       "(5,\n",
       " array([[[ True, False,  True,  True,  True],\n",
       "         [False, False,  True, False, False],\n",
       "         [ True, False,  True, False,  True],\n",
       "         [ True, False, False, False,  True],\n",
       "         [False, False, False, False, False]],\n",
       " \n",
       "        [[ True,  True,  True, False, False],\n",
       "         [ True, False, False,  True, False],\n",
       "         [ True,  True, False,  True, False],\n",
       "         [False,  True,  True, False, False],\n",
       "         [ True,  True,  True,  True, False]]]),\n",
       " array([[[ True,  True,  True,  True, False,  True,  True,  True, False,\n",
       "          False],\n",
       "         [ True, False, False, False,  True, False, False,  True,  True,\n",
       "           True],\n",
       "         [False,  True,  True, False, False, False, False, False,  True,\n",
       "           True],\n",
       "         [ True, False, False,  True, False, False, False, False, False,\n",
       "           True],\n",
       "         [ True,  True, False, False, False, False,  True, False,  True,\n",
       "           True],\n",
       "         [ True, False, False, False, False,  True,  True,  True, False,\n",
       "           True],\n",
       "         [ True, False, False, False, False, False,  True, False, False,\n",
       "          False],\n",
       "         [ True,  True, False, False, False,  True, False,  True,  True,\n",
       "          False],\n",
       "         [ True,  True,  True, False, False, False,  True, False, False,\n",
       "           True],\n",
       "         [False, False, False, False, False, False, False, False, False,\n",
       "          False]],\n",
       " \n",
       "        [[ True, False,  True,  True,  True, False,  True,  True,  True,\n",
       "          False],\n",
       "         [False,  True, False,  True, False,  True, False, False,  True,\n",
       "          False],\n",
       "         [False,  True,  True,  True, False,  True,  True, False, False,\n",
       "          False],\n",
       "         [ True, False, False,  True,  True,  True,  True,  True, False,\n",
       "          False],\n",
       "         [False,  True,  True, False,  True,  True,  True,  True, False,\n",
       "          False],\n",
       "         [False,  True,  True,  True,  True, False,  True, False, False,\n",
       "          False],\n",
       "         [ True,  True, False,  True,  True, False, False,  True,  True,\n",
       "          False],\n",
       "         [False,  True,  True,  True,  True, False,  True, False,  True,\n",
       "          False],\n",
       "         [False, False,  True,  True,  True, False,  True, False,  True,\n",
       "          False],\n",
       "         [ True, False,  True,  True,  True,  True,  True,  True,  True,\n",
       "          False]]]))"
      ]
     },
     "execution_count": 24,
     "metadata": {},
     "output_type": "execute_result"
    }
   ],
   "source": [
    "# zanj = ZANJ()\n",
    "# d = datasets[0]\n",
    "# s=d.serialize()\n",
    "# p = Path(os.getcwd())/(d.cfg.to_fname()+'.zanj')\n",
    "# quicktimeit(lambda: zanj.save(s, file_path=p), namespace=locals())\n",
    "# quicktimeit(lambda: zanj.read(file_path=p), namespace=locals())\n",
    "# i, rt.mazes[0].connection_list, d.mazes[0].connection_list\n",
    "i"
   ]
  },
  {
   "cell_type": "code",
   "execution_count": 14,
   "metadata": {},
   "outputs": [
    {
     "data": {
      "text/html": [
       "<div>\n",
       "<style scoped>\n",
       "    .dataframe tbody tr th:only-of-type {\n",
       "        vertical-align: middle;\n",
       "    }\n",
       "\n",
       "    .dataframe tbody tr th {\n",
       "        vertical-align: top;\n",
       "    }\n",
       "\n",
       "    .dataframe thead th {\n",
       "        text-align: right;\n",
       "    }\n",
       "</style>\n",
       "<table border=\"1\" class=\"dataframe\">\n",
       "  <thead>\n",
       "    <tr style=\"text-align: right;\">\n",
       "      <th></th>\n",
       "      <th>grid_n</th>\n",
       "      <th>n_mazes</th>\n",
       "      <th>serialize</th>\n",
       "      <th>serialize_minimal</th>\n",
       "      <th>load</th>\n",
       "      <th>load_minimal</th>\n",
       "      <th>save</th>\n",
       "      <th>save_minimal</th>\n",
       "      <th>read</th>\n",
       "      <th>read_minimal</th>\n",
       "    </tr>\n",
       "  </thead>\n",
       "  <tbody>\n",
       "    <tr>\n",
       "      <th>0</th>\n",
       "      <td>3</td>\n",
       "      <td>1</td>\n",
       "      <td>0.018053</td>\n",
       "      <td>0.046648</td>\n",
       "      <td>0.0</td>\n",
       "      <td>0.0</td>\n",
       "      <td>0.200395</td>\n",
       "      <td>0.205376</td>\n",
       "      <td>0.052325</td>\n",
       "      <td>0.052867</td>\n",
       "    </tr>\n",
       "    <tr>\n",
       "      <th>1</th>\n",
       "      <td>5</td>\n",
       "      <td>10</td>\n",
       "      <td>0.018018</td>\n",
       "      <td>0.052001</td>\n",
       "      <td>0.0</td>\n",
       "      <td>0.0</td>\n",
       "      <td>0.288370</td>\n",
       "      <td>0.290663</td>\n",
       "      <td>0.091899</td>\n",
       "      <td>0.090565</td>\n",
       "    </tr>\n",
       "    <tr>\n",
       "      <th>2</th>\n",
       "      <td>5</td>\n",
       "      <td>10</td>\n",
       "      <td>0.018091</td>\n",
       "      <td>0.052085</td>\n",
       "      <td>0.0</td>\n",
       "      <td>0.0</td>\n",
       "      <td>0.327949</td>\n",
       "      <td>0.330928</td>\n",
       "      <td>0.131597</td>\n",
       "      <td>0.129492</td>\n",
       "    </tr>\n",
       "    <tr>\n",
       "      <th>3</th>\n",
       "      <td>5</td>\n",
       "      <td>100</td>\n",
       "      <td>0.000000</td>\n",
       "      <td>0.000000</td>\n",
       "      <td>0.0</td>\n",
       "      <td>0.0</td>\n",
       "      <td>0.000000</td>\n",
       "      <td>0.000000</td>\n",
       "      <td>0.000000</td>\n",
       "      <td>0.000000</td>\n",
       "    </tr>\n",
       "    <tr>\n",
       "      <th>4</th>\n",
       "      <td>5</td>\n",
       "      <td>1000</td>\n",
       "      <td>0.000000</td>\n",
       "      <td>0.000000</td>\n",
       "      <td>0.0</td>\n",
       "      <td>0.0</td>\n",
       "      <td>0.000000</td>\n",
       "      <td>0.000000</td>\n",
       "      <td>0.000000</td>\n",
       "      <td>0.000000</td>\n",
       "    </tr>\n",
       "    <tr>\n",
       "      <th>5</th>\n",
       "      <td>5</td>\n",
       "      <td>10000</td>\n",
       "      <td>0.000000</td>\n",
       "      <td>0.000000</td>\n",
       "      <td>0.0</td>\n",
       "      <td>0.0</td>\n",
       "      <td>0.000000</td>\n",
       "      <td>0.000000</td>\n",
       "      <td>0.000000</td>\n",
       "      <td>0.000000</td>\n",
       "    </tr>\n",
       "    <tr>\n",
       "      <th>6</th>\n",
       "      <td>10</td>\n",
       "      <td>1000</td>\n",
       "      <td>0.000000</td>\n",
       "      <td>0.000000</td>\n",
       "      <td>0.0</td>\n",
       "      <td>0.0</td>\n",
       "      <td>0.000000</td>\n",
       "      <td>0.000000</td>\n",
       "      <td>0.000000</td>\n",
       "      <td>0.000000</td>\n",
       "    </tr>\n",
       "  </tbody>\n",
       "</table>\n",
       "</div>"
      ],
      "text/plain": [
       "   grid_n  n_mazes  serialize  serialize_minimal  load  load_minimal  \\\n",
       "0       3        1   0.018053           0.046648   0.0           0.0   \n",
       "1       5       10   0.018018           0.052001   0.0           0.0   \n",
       "2       5       10   0.018091           0.052085   0.0           0.0   \n",
       "3       5      100   0.000000           0.000000   0.0           0.0   \n",
       "4       5     1000   0.000000           0.000000   0.0           0.0   \n",
       "5       5    10000   0.000000           0.000000   0.0           0.0   \n",
       "6      10     1000   0.000000           0.000000   0.0           0.0   \n",
       "\n",
       "       save  save_minimal      read  read_minimal  \n",
       "0  0.200395      0.205376  0.052325      0.052867  \n",
       "1  0.288370      0.290663  0.091899      0.090565  \n",
       "2  0.327949      0.330928  0.131597      0.129492  \n",
       "3  0.000000      0.000000  0.000000      0.000000  \n",
       "4  0.000000      0.000000  0.000000      0.000000  \n",
       "5  0.000000      0.000000  0.000000      0.000000  \n",
       "6  0.000000      0.000000  0.000000      0.000000  "
      ]
     },
     "execution_count": 14,
     "metadata": {},
     "output_type": "execute_result"
    }
   ],
   "source": [
    "speeds"
   ]
  },
  {
   "cell_type": "markdown",
   "metadata": {},
   "source": [
    "Comparing lines 4 and 6, it appears that the `grid_n` has little effect on runtimes. `serialize` and `load` runtimes scale roughly linearly with `n_mazes`.\n",
    "\n",
    "Given that `grid_n` doesn't confound the results, the plots below show data from `speeds.loc[2:5,:]` to compare the speed of analogous procedures vs `n_mazes`. "
   ]
  },
  {
   "cell_type": "code",
   "execution_count": 141,
   "metadata": {},
   "outputs": [
    {
     "data": {
      "text/plain": [
       "Text(0, 0.5, 'Runtime [sec]')"
      ]
     },
     "execution_count": 141,
     "metadata": {},
     "output_type": "execute_result"
    },
    {
     "data": {
      "image/png": "[encoded data removed]",
      "text/plain": [
       "<Figure size 1000x800 with 4 Axes>"
      ]
     },
     "metadata": {},
     "output_type": "display_data"
    }
   ],
   "source": [
    "fig = plt.figure(figsize=(10,8))\n",
    "fig.subplots(2,2)\n",
    "ax = fig.axes[0]\n",
    "speeds.loc[2:5, ['n_mazes', 'serialize', 'serialize_minimal']].plot(x='n_mazes', ax=ax, logx=True, logy=True)\n",
    "ax.set_ylabel('Runtime [sec]')\n",
    "\n",
    "ax = fig.axes[1]\n",
    "speeds.loc[2:5, ['n_mazes', 'load', 'load_minimal']].plot(x='n_mazes', ax=ax, logx=True, logy=True)\n",
    "ax.set_ylabel('Runtime [sec]')"
   ]
  }
 ],
 "metadata": {
  "kernelspec": {
   "display_name": "Python 3 (ipykernel)",
   "language": "python",
   "name": "python3"
  },
  "language_info": {
   "codemirror_mode": {
    "name": "ipython",
    "version": 3
   },
   "file_extension": ".py",
   "mimetype": "text/x-python",
   "name": "python",
   "nbconvert_exporter": "python",
   "pygments_lexer": "ipython3",
   "version": "3.10.11"
  }
 },
 "nbformat": 4,
 "nbformat_minor": 4
}
