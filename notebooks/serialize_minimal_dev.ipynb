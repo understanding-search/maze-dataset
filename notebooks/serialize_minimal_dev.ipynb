{
 "cells": [
  {
   "cell_type": "code",
   "execution_count": 1,
   "metadata": {},
   "outputs": [],
   "source": [
    "import copy\n",
    "\n",
    "import numpy as np\n",
    "import pytest\n",
    "\n",
    "from maze_dataset.constants import CoordArray\n",
    "from maze_dataset.dataset.dataset import (\n",
    "    register_dataset_filter,\n",
    "    register_filter_namespace_for_dataset,\n",
    ")\n",
    "from maze_dataset.dataset.maze_dataset import (\n",
    "    MazeDataset,\n",
    "    MazeDatasetConfig,\n",
    "    register_maze_filter,\n",
    ")\n",
    "from maze_dataset.maze import SolvedMaze\n",
    "from maze_dataset.utils import bool_array_from_string\n",
    "from maze_dataset.plotting import plot_dataset_mazes, print_dataset_mazes"
   ]
  },
  {
   "cell_type": "code",
   "execution_count": 2,
   "metadata": {},
   "outputs": [
    {
     "data": {
      "text/plain": [
       "7"
      ]
     },
     "execution_count": 2,
     "metadata": {},
     "output_type": "execute_result"
    }
   ],
   "source": [
    "a = 5\n",
    "a+2"
   ]
  },
  {
   "cell_type": "code",
   "execution_count": 3,
   "metadata": {},
   "outputs": [],
   "source": [
    "config = MazeDatasetConfig(name=\"test\", grid_n=3, n_mazes=5)\n",
    "dataset = MazeDataset.generate(config, gen_parallel=False)"
   ]
  },
  {
   "cell_type": "code",
   "execution_count": 11,
   "metadata": {},
   "outputs": [
    {
     "data": {
      "text/plain": [
       "(<Figure size 500x200 with 5 Axes>,\n",
       " array([<Axes: >, <Axes: >, <Axes: >, <Axes: >, <Axes: >], dtype=object))"
      ]
     },
     "execution_count": 11,
     "metadata": {},
     "output_type": "execute_result"
    },
    {
     "data": {
      "image/png": "[encoded data removed]",
      "text/plain": [
       "<Figure size 500x200 with 5 Axes>"
      ]
     },
     "metadata": {},
     "output_type": "display_data"
    }
   ],
   "source": [
    "plot_dataset_mazes(dataset)"
   ]
  },
  {
   "cell_type": "code",
   "execution_count": 66,
   "metadata": {},
   "outputs": [
    {
     "data": {
      "text/plain": [
       "array([[1, 2],\n",
       "       [2, 2],\n",
       "       [2, 1],\n",
       "       [2, 0],\n",
       "       [1, 0],\n",
       "       [0, 0]])"
      ]
     },
     "execution_count": 66,
     "metadata": {},
     "output_type": "execute_result"
    }
   ],
   "source": [
    "# dataset.serialize()['mazes']\n",
    "dataset.mazes[0].solution"
   ]
  },
  {
   "cell_type": "code",
   "execution_count": 81,
   "metadata": {},
   "outputs": [
    {
     "ename": "ValueError",
     "evalue": "setting an array element with a sequence. The requested array has an inhomogeneous shape after 1 dimensions. The detected shape was (7,) + inhomogeneous part.",
     "output_type": "error",
     "traceback": [
      "\u001b[0;31m---------------------------------------------------------------------------\u001b[0m",
      "\u001b[0;31mValueError\u001b[0m                                Traceback (most recent call last)",
      "Cell \u001b[0;32mIn[81], line 5\u001b[0m\n\u001b[1;32m      3\u001b[0m lengths \u001b[38;5;241m=\u001b[39m np\u001b[38;5;241m.\u001b[39mfromiter((m\u001b[38;5;241m.\u001b[39msolution\u001b[38;5;241m.\u001b[39mshape[\u001b[38;5;241m0\u001b[39m] \u001b[38;5;28;01mfor\u001b[39;00m m \u001b[38;5;129;01min\u001b[39;00m dataset\u001b[38;5;241m.\u001b[39mmazes), count\u001b[38;5;241m=\u001b[39m\u001b[38;5;28mlen\u001b[39m(dataset) , dtype \u001b[38;5;241m=\u001b[39m np\u001b[38;5;241m.\u001b[39muint16) \u001b[38;5;66;03m# sol'n lengths\u001b[39;00m\n\u001b[1;32m      4\u001b[0m max_solution_length \u001b[38;5;241m=\u001b[39m lengths\u001b[38;5;241m.\u001b[39mmax()\n\u001b[0;32m----> 5\u001b[0m np\u001b[38;5;241m.\u001b[39mstack([np\u001b[38;5;241m.\u001b[39marray([\u001b[38;5;241m*\u001b[39mm\u001b[38;5;241m.\u001b[39msolution, [\u001b[38;5;241m-\u001b[39m\u001b[38;5;241m1\u001b[39m, \u001b[38;5;241m-\u001b[39m\u001b[38;5;241m1\u001b[39m]\u001b[38;5;241m*\u001b[39m(\u001b[38;5;28mlen\u001b[39m(m\u001b[38;5;241m.\u001b[39msolution \u001b[38;5;241m-\u001b[39m max_solution_length))]) \u001b[38;5;28;01mfor\u001b[39;00m m \u001b[38;5;129;01min\u001b[39;00m dataset\u001b[38;5;241m.\u001b[39mmazes]) \u001b[38;5;66;03m# solutions\u001b[39;00m\n\u001b[1;32m      6\u001b[0m \u001b[38;5;66;03m# np.stack([np.pad(m.solution, ((0,max_solution_length - len(m.solution)),(0,0)), constant_values=-1) for m in dataset.mazes]) # solutions\u001b[39;00m\n\u001b[1;32m      7\u001b[0m \u001b[38;5;66;03m# m = dataset.mazes[0]\u001b[39;00m\n\u001b[1;32m      8\u001b[0m \u001b[38;5;66;03m# [np.pad(m.solution, ((0,max_solution_length - len(m.solution)),(0,0)), constant_values=-1) for m in dataset.mazes]\u001b[39;00m\n\u001b[1;32m      9\u001b[0m \u001b[38;5;66;03m# np.fromiter((m for m in [True, False, True]), dtype=bool)\u001b[39;00m\n",
      "Cell \u001b[0;32mIn[81], line 5\u001b[0m, in \u001b[0;36m<listcomp>\u001b[0;34m(.0)\u001b[0m\n\u001b[1;32m      3\u001b[0m lengths \u001b[38;5;241m=\u001b[39m np\u001b[38;5;241m.\u001b[39mfromiter((m\u001b[38;5;241m.\u001b[39msolution\u001b[38;5;241m.\u001b[39mshape[\u001b[38;5;241m0\u001b[39m] \u001b[38;5;28;01mfor\u001b[39;00m m \u001b[38;5;129;01min\u001b[39;00m dataset\u001b[38;5;241m.\u001b[39mmazes), count\u001b[38;5;241m=\u001b[39m\u001b[38;5;28mlen\u001b[39m(dataset) , dtype \u001b[38;5;241m=\u001b[39m np\u001b[38;5;241m.\u001b[39muint16) \u001b[38;5;66;03m# sol'n lengths\u001b[39;00m\n\u001b[1;32m      4\u001b[0m max_solution_length \u001b[38;5;241m=\u001b[39m lengths\u001b[38;5;241m.\u001b[39mmax()\n\u001b[0;32m----> 5\u001b[0m np\u001b[38;5;241m.\u001b[39mstack([\u001b[43mnp\u001b[49m\u001b[38;5;241;43m.\u001b[39;49m\u001b[43marray\u001b[49m\u001b[43m(\u001b[49m\u001b[43m[\u001b[49m\u001b[38;5;241;43m*\u001b[39;49m\u001b[43mm\u001b[49m\u001b[38;5;241;43m.\u001b[39;49m\u001b[43msolution\u001b[49m\u001b[43m,\u001b[49m\u001b[43m \u001b[49m\u001b[43m[\u001b[49m\u001b[38;5;241;43m-\u001b[39;49m\u001b[38;5;241;43m1\u001b[39;49m\u001b[43m,\u001b[49m\u001b[43m \u001b[49m\u001b[38;5;241;43m-\u001b[39;49m\u001b[38;5;241;43m1\u001b[39;49m\u001b[43m]\u001b[49m\u001b[38;5;241;43m*\u001b[39;49m\u001b[43m(\u001b[49m\u001b[38;5;28;43mlen\u001b[39;49m\u001b[43m(\u001b[49m\u001b[43mm\u001b[49m\u001b[38;5;241;43m.\u001b[39;49m\u001b[43msolution\u001b[49m\u001b[43m \u001b[49m\u001b[38;5;241;43m-\u001b[39;49m\u001b[43m \u001b[49m\u001b[43mmax_solution_length\u001b[49m\u001b[43m)\u001b[49m\u001b[43m)\u001b[49m\u001b[43m]\u001b[49m\u001b[43m)\u001b[49m \u001b[38;5;28;01mfor\u001b[39;00m m \u001b[38;5;129;01min\u001b[39;00m dataset\u001b[38;5;241m.\u001b[39mmazes]) \u001b[38;5;66;03m# solutions\u001b[39;00m\n\u001b[1;32m      6\u001b[0m \u001b[38;5;66;03m# np.stack([np.pad(m.solution, ((0,max_solution_length - len(m.solution)),(0,0)), constant_values=-1) for m in dataset.mazes]) # solutions\u001b[39;00m\n\u001b[1;32m      7\u001b[0m \u001b[38;5;66;03m# m = dataset.mazes[0]\u001b[39;00m\n\u001b[1;32m      8\u001b[0m \u001b[38;5;66;03m# [np.pad(m.solution, ((0,max_solution_length - len(m.solution)),(0,0)), constant_values=-1) for m in dataset.mazes]\u001b[39;00m\n\u001b[1;32m      9\u001b[0m \u001b[38;5;66;03m# np.fromiter((m for m in [True, False, True]), dtype=bool)\u001b[39;00m\n",
      "\u001b[0;31mValueError\u001b[0m: setting an array element with a sequence. The requested array has an inhomogeneous shape after 1 dimensions. The detected shape was (7,) + inhomogeneous part."
     ]
    }
   ],
   "source": [
    "np.stack([m.connection_list for m in dataset.mazes]) # connection list\n",
    "np.stack([np.array([m.start_pos, m.end_pos]) for m in dataset.mazes]) # endpoints\n",
    "lengths = np.fromiter((m.solution.shape[0] for m in dataset.mazes), count=len(dataset) , dtype = np.uint16) # sol'n lengths\n",
    "max_solution_len = lengths.max()\n",
    "np.stack([np.pad(m.solution, ((0,max_solution_len - len(m.solution)),(0,0)), constant_values=-1) for m in dataset.mazes]) # solutions\n",
    "# m = dataset.mazes[0]\n",
    "# [np.pad(m.solution, ((0,max_solution_length - len(m.solution)),(0,0)), constant_values=-1) for m in dataset.mazes]\n",
    "# np.fromiter((m for m in [True, False, True]), dtype=bool)\n"
   ]
  },
  {
   "cell_type": "code",
   "execution_count": 5,
   "metadata": {},
   "outputs": [],
   "source": [
    "s = dataset.serialize_minimal()"
   ]
  },
  {
   "cell_type": "code",
   "execution_count": 11,
   "metadata": {},
   "outputs": [
    {
     "data": {
      "text/plain": [
       "(5, 8, 2)"
      ]
     },
     "execution_count": 11,
     "metadata": {},
     "output_type": "execute_result"
    }
   ],
   "source": [
    "s['maze_solutions'].shape"
   ]
  },
  {
   "cell_type": "code",
   "execution_count": null,
   "metadata": {},
   "outputs": [],
   "source": []
  }
 ],
 "metadata": {
  "kernelspec": {
   "display_name": "Python 3 (ipykernel)",
   "language": "python",
   "name": "python3"
  },
  "language_info": {
   "codemirror_mode": {
    "name": "ipython",
    "version": 3
   },
   "file_extension": ".py",
   "mimetype": "text/x-python",
   "name": "python",
   "nbconvert_exporter": "python",
   "pygments_lexer": "ipython3",
   "version": "3.10.12"
  }
 },
 "nbformat": 4,
 "nbformat_minor": 4
}
