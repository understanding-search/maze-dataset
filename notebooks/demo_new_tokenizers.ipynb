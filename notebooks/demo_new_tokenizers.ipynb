{
 "cells": [
  {
   "cell_type": "markdown",
   "metadata": {},
   "source": [
    "# Imports"
   ]
  },
  {
   "cell_type": "code",
   "execution_count": 44,
   "metadata": {},
   "outputs": [],
   "source": [
    "import pandas as pd\n",
    "import matplotlib.pyplot as plt\n",
    "\n",
    "from maze_dataset.tokenization import (\n",
    "    ALL_TOKENIZERS,\n",
    "    MazeTokenizer2,\n",
    "    TokenizerElement,\n",
    "    CoordTokenizers,\n",
    "    PromptSequencers,\n",
    ")\n",
    "\n",
    "from maze_dataset import (\n",
    "    VOCAB,\n",
    "    VOCAB_LIST,\n",
    "    VOCAB_TOKEN_TO_INDEX,\n",
    "    LatticeMazeGenerators,\n",
    "    MazeDataset,\n",
    "    MazeDatasetConfig,\n",
    ")\n",
    "\n",
    "from maze_dataset.plotting import MazePlot\n",
    "\n",
    "from maze_dataset.tokenization.util import equal_except_adj_list_sequence"
   ]
  },
  {
   "cell_type": "markdown",
   "metadata": {},
   "source": [
    "# `MazeTokenizer2` Initialization\n",
    "\n",
    "Most of the API for these tokenizers is contained in the `MazeTokenizer2` class. The only time when users need to interact with the internal components of a `MazeTokenizer2` is when initializing a non-default tokenizer."
   ]
  },
  {
   "cell_type": "code",
   "execution_count": 45,
   "metadata": {},
   "outputs": [],
   "source": [
    "mt_default = MazeTokenizer2()\n",
    "mt_ctt = MazeTokenizer2(coord_tokenizer=CoordTokenizers.CTT())\n",
    "# mt_default, mt_ctt"
   ]
  },
  {
   "cell_type": "markdown",
   "metadata": {},
   "source": [
    "There are 5 internal components of every `MazeTokenizer2`, each of which subclasses `TokenizerElement`. "
   ]
  },
  {
   "cell_type": "code",
   "execution_count": 46,
   "metadata": {},
   "outputs": [
    {
     "name": "stdout",
     "output_type": "stream",
     "text": [
      "<class 'maze_dataset.tokenization.maze_tokenizer.CoordTokenizers.CoordTokenizer'>\n",
      "<class 'maze_dataset.tokenization.maze_tokenizer.AdjListTokenizers.AdjListTokenizer'>\n",
      "<class 'maze_dataset.tokenization.maze_tokenizer.TargetTokenizers.TargetTokenizer'>\n",
      "<class 'maze_dataset.tokenization.maze_tokenizer.PathTokenizers.PathTokenizer'>\n",
      "<class 'maze_dataset.tokenization.maze_tokenizer.PromptSequencers.PromptSequencer'>\n",
      "\n",
      "No-arg tokenizer defaults:\n",
      "PromptSequencers.AOTP()\n",
      "CoordTokenizers.UT()\n",
      "AdjListTokenizers.Coords(intra=True, post=True, walls=False)\n",
      "TargetTokenizers.Unlabeled(post=False)\n",
      "PathTokenizers.Coords(post=False)\n"
     ]
    }
   ],
   "source": [
    "print(\"\\n\".join([str(elem) for elem in TokenizerElement.__subclasses__()]))\n",
    "print('\\nNo-arg tokenizer defaults:')\n",
    "print(\"\\n\".join([str(elem) for elem in mt_default._tokenizer_elements]))"
   ]
  },
  {
   "cell_type": "markdown",
   "metadata": {},
   "source": [
    "Some `TokenizerElement`s also contain their own initialization arguments. Currently, all of these arguments are `boolean`-typed, but more complex args could be added in the future. The most common arguments across all `TokenizerElement`s are `pre`, `intra`, and `post`, which all control the option to add delimiter tokens to that part of the output. Other args are more specialized; see the docstrings for more details."
   ]
  },
  {
   "cell_type": "markdown",
   "metadata": {},
   "source": [
    "# Vocabulary\n",
    "\n",
    "All instances of `MazeTokenizer2` uses a static vocabulary `VOCAB`, which is one of the main functional differences from `MazeTokenizer`. Direct access to the static vocabulary can be made through 3 constants:\n",
    "- `VOCAB`: extension of the existing `SPECIAL_TOKENS` dataclass\n",
    "- `VOCAB_LIST: list[str]`\n",
    "- `VOCAB_TOKEN_TO_INDEX: dict[str, int]`"
   ]
  },
  {
   "cell_type": "code",
   "execution_count": 47,
   "metadata": {},
   "outputs": [
    {
     "name": "stdout",
     "output_type": "stream",
     "text": [
      "`VOCAB`: type\n",
      "\tADJLIST_START\n",
      "\tADJLIST_END\n",
      "\tTARGET_START\n",
      "\tTARGET_END\n",
      "\tORIGIN_START\n",
      "\n",
      "`VOCAB_LIST`: list[str]\n",
      "\t<ADJLIST_START>\n",
      "\t<ADJLIST_END>\n",
      "\t<TARGET_START>\n",
      "\t<TARGET_END>\n",
      "\t<ORIGIN_START>\n",
      "\n",
      "`VOCAB_TOKEN_TO_INDEX`: dict[str, int]\n",
      "\t<ADJLIST_START>:   \t0\n",
      "\t<ADJLIST_END>:   \t1\n",
      "\t<TARGET_START>:   \t2\n",
      "\t<TARGET_END>:   \t3\n",
      "\t<ORIGIN_START>:   \t4\n"
     ]
    }
   ],
   "source": [
    "print(\"`VOCAB`: type\")\n",
    "for i, t in enumerate(VOCAB):\n",
    "    if i >= 5: break\n",
    "    print(f\"\\t{t}\")\n",
    "\n",
    "print(\"\\n`VOCAB_LIST`: list[str]\")\n",
    "for t in VOCAB_LIST[:5]:\n",
    "    print(f\"\\t{t}\")\n",
    "    \n",
    "print(\"\\n`VOCAB_TOKEN_TO_INDEX`: dict[str, int]\")\n",
    "for t in VOCAB_TOKEN_TO_INDEX:\n",
    "    if VOCAB_TOKEN_TO_INDEX[t] >= 5: break\n",
    "    print(f\"\\t{t}:   \\t{VOCAB_TOKEN_TO_INDEX[t]}\")\n"
   ]
  },
  {
   "cell_type": "markdown",
   "metadata": {},
   "source": [
    "### Considerations of Static Vocabulary\n",
    "\n",
    "- No more rasterized vs uniform indexing\n",
    "- Fixed max grid size\n",
    "  - There is now a fixed maximum maze size which is supported.\n",
    "  - Unique tokens (`CoordTokenizers.UT`): 50x50\n",
    "  - Coordinate tuple tokens (`CoordTokenizers.CTT`): 128x128\n",
    "  - Mazes larger than these sizes are not supported\n",
    "  - There should be fewer compatibility issues with tokenizers using different `max_grid_size` parameters\n",
    "- Vocabulary access\n",
    "  - There is now no need to pass around a tokenizer object or any parameter to access its custom vocabulary"
   ]
  },
  {
   "cell_type": "markdown",
   "metadata": {},
   "source": [
    "### Refactoring your code from legacy `MazeTokenizer` and `TokenizationMode`\n",
    "Since `MazeTokenizer2` uses a static vocabulary, it is not backwards compatible with any models trained using a legacy `MazeTokenizer`. The Unsearch libraries will soon be updated to use `MazeTokenizer2` by default in all settings. \n",
    "\n",
    "If you've manually specified a `MazeTokenizer` or `TokenizationMode` in your research code, the easiest way to refactor is using `MazeTokenizer2.from_legacy`, which will convert a `MazeTokenizer` or `TokenizationMode` to its corresponding `MazeTokenizer2` instance. Note that this correspondence means only that the tokenization of mazes to strings are equivalent; the encodings to integer vocabulary indices are not."
   ]
  },
  {
   "cell_type": "markdown",
   "metadata": {},
   "source": [
    "## `ALL_TOKENIZERS`"
   ]
  },
  {
   "cell_type": "markdown",
   "metadata": {},
   "source": [
    "In general, all combinations of `TokenizerElement`s and their arguments will produce a valid and unique `MazeTokenizer2`. However, it is not guaranteed that every possible `MazeTokenizer2` that can be constructed will make practical sense or have been put through testing. `ALL_TOKENIZERS` contains all the tested tokenizers pre-built. For research investigating many different tokenization schemes, one practical way to access them is by looping through `ALL_TOKENIZERS`. Be aware that the indexing of specific tokenizers in `ALL_TOKENIZERS` may change in any minor update without notice."
   ]
  },
  {
   "cell_type": "code",
   "execution_count": 48,
   "metadata": {},
   "outputs": [
    {
     "name": "stdout",
     "output_type": "stream",
     "text": [
      "trying to get the dataset 'test-g3-n1-a_dfs-h84654'\n",
      "generating dataset...\n"
     ]
    },
    {
     "name": "stderr",
     "output_type": "stream",
     "text": [
      "generating & solving mazes: 100%|██████████| 1/1 [00:00<00:00, 111.14maze/s]"
     ]
    },
    {
     "name": "stdout",
     "output_type": "stream",
     "text": [
      "Got dataset test with 1 items. output.cfg.to_fname() = 'test-g3-n1-a_dfs-h84654'\n",
      "\n",
      "\n",
      "MazeTokenizer2-PromptSequencers.AOTP()-CoordTokenizers.UT()-AdjListTokenizers.Coords(intra=True, post=True, walls=False)-TargetTokenizers.Unlabeled(post=False)-PathTokenizers.Coords(post=False)\n",
      "['<ADJLIST_START>', '(0,0)', '<-->', '(1,0)', ';', '(2,0)', '<-->', '(2,1)', ';', '(2,2)', '<-->', '(2,1)', ';', '(1,1)', '<-->', '(0,1)', ';', '(1,2)', '<-->', '(2,2)', ';', '(1,1)', '<-->', '(1,2)', ';', '(1,2)', '<-->', '(0,2)', ';', '(2,0)', '<-->', '(1,0)', ';', '<ADJLIST_END>', '<ORIGIN_START>', '(1,2)', '<ORIGIN_END>', '<TARGET_START>', '(0,0)', '<TARGET_END>', '<PATH_START>', '(1,2)', '(2,2)', '(2,1)', '(2,0)', '(1,0)', '(0,0)', '<PATH_END>']\n",
      "['<ADJLIST_START>', '(0,0)', '<-->', '(1,0)', ';', '(1,1)', '<-->', '(0,1)', ';', '(1,2)', '<-->', '(2,2)', ';', '(1,1)', '<-->', '(1,2)', ';', '(1,2)', '<-->', '(0,2)', ';', '(2,1)', '<-->', '(2,0)', ';', '(2,0)', '<-->', '(1,0)', ';', '(2,1)', '<-->', '(2,2)', ';', '<ADJLIST_END>', '<ORIGIN_START>', '(1,2)', '<ORIGIN_END>', '<TARGET_START>', '(0,0)', '<TARGET_END>', '<PATH_START>', '(1,2)', '(2,2)', '(2,1)', '(2,0)', '(1,0)', '(0,0)', '<PATH_END>']\n",
      "\n",
      "MazeTokenizer2-PromptSequencers.AOTP()-CoordTokenizers.CTT(pre=True, intra=True, post=True)-AdjListTokenizers.Coords(intra=True, post=True, walls=False)-TargetTokenizers.Unlabeled(post=False)-PathTokenizers.Coords(post=False)\n",
      "['<ADJLIST_START>', '(', '2', ',', '2', ')', '<-->', '(', '2', ',', '1', ')', ';', '(', '1', ',', '2', ')', '<-->', '(', '1', ',', '1', ')', ';', '(', '1', ',', '2', ')', '<-->', '(', '0', ',', '2', ')', ';', '(', '1', ',', '0', ')', '<-->', '(', '2', ',', '0', ')', ';', '(', '2', ',', '1', ')', '<-->', '(', '2', ',', '0', ')', ';', '(', '1', ',', '2', ')', '<-->', '(', '2', ',', '2', ')', ';', '(', '0', ',', '1', ')', '<-->', '(', '1', ',', '1', ')', ';', '(', '1', ',', '0', ')', '<-->', '(', '0', ',', '0', ')', ';', '<ADJLIST_END>', '<ORIGIN_START>', '(', '1', ',', '2', ')', '<ORIGIN_END>', '<TARGET_START>', '(', '0', ',', '0', ')', '<TARGET_END>', '<PATH_START>', '(', '1', ',', '2', ')', '(', '2', ',', '2', ')', '(', '2', ',', '1', ')', '(', '2', ',', '0', ')', '(', '1', ',', '0', ')', '(', '0', ',', '0', ')', '<PATH_END>']\n",
      "['<ADJLIST_START>', '(', '0', ',', '0', ')', '<-->', '(', '1', ',', '0', ')', ';', '(', '2', ',', '0', ')', '<-->', '(', '2', ',', '1', ')', ';', '(', '2', ',', '2', ')', '<-->', '(', '2', ',', '1', ')', ';', '(', '0', ',', '2', ')', '<-->', '(', '1', ',', '2', ')', ';', '(', '1', ',', '2', ')', '<-->', '(', '2', ',', '2', ')', ';', '(', '1', ',', '2', ')', '<-->', '(', '1', ',', '1', ')', ';', '(', '2', ',', '0', ')', '<-->', '(', '1', ',', '0', ')', ';', '(', '0', ',', '1', ')', '<-->', '(', '1', ',', '1', ')', ';', '<ADJLIST_END>', '<ORIGIN_START>', '(', '1', ',', '2', ')', '<ORIGIN_END>', '<TARGET_START>', '(', '0', ',', '0', ')', '<TARGET_END>', '<PATH_START>', '(', '1', ',', '2', ')', '(', '2', ',', '2', ')', '(', '2', ',', '1', ')', '(', '2', ',', '0', ')', '(', '1', ',', '0', ')', '(', '0', ',', '0', ')', '<PATH_END>']\n",
      "\n"
     ]
    },
    {
     "name": "stderr",
     "output_type": "stream",
     "text": [
      "\n"
     ]
    }
   ],
   "source": [
    "cfg: MazeDatasetConfig = MazeDatasetConfig(\n",
    "    name=\"test\",\n",
    "    grid_n=3,\n",
    "    n_mazes=1,\n",
    "    maze_ctor=LatticeMazeGenerators.gen_dfs,\n",
    ")\n",
    "maze_dataset: MazeDataset = MazeDataset.from_config(\n",
    "    cfg,\n",
    "    do_download=False,\n",
    "    load_local=False,\n",
    "    do_generate=True,\n",
    "    save_local=False,\n",
    "    verbose=True,\n",
    "    gen_parallel=False,\n",
    ")\n",
    "\n",
    "print(\"\\n\")\n",
    "for tokenizer in ALL_TOKENIZERS:\n",
    "    print(tokenizer)\n",
    "    a: list[str] = maze_dataset[0].as_tokens(tokenizer)\n",
    "    b: list[str] = tokenizer.to_tokens(maze_dataset[0])\n",
    "    assert equal_except_adj_list_sequence(a, b)\n",
    "    print(a)\n",
    "    print(b)\n",
    "    print()"
   ]
  },
  {
   "cell_type": "markdown",
   "metadata": {},
   "source": [
    "Other possible tokenizers which aren't in `ALL_TOKENIZERS` are not guaranteed to function."
   ]
  },
  {
   "cell_type": "code",
   "execution_count": 49,
   "metadata": {},
   "outputs": [
    {
     "name": "stderr",
     "output_type": "stream",
     "text": [
      "c:\\Users\\Aaron\\AppData\\Local\\pypoetry\\Cache\\virtualenvs\\maze-dataset-zQQMZP3O-py3.10\\lib\\site-packages\\muutils\\json_serialize\\serializable_dataclass.py:171: UserWarning: Cannot compare PromptSequencers.AOTP() and PromptSequencers.AOP(include_target_special_tokens=False) for equality due to classes not matching: <class 'maze_dataset.tokenization.maze_tokenizer.PromptSequencers.AOTP'> vs <class 'maze_dataset.tokenization.maze_tokenizer.PromptSequencers.AOP'>\n",
      "  warnings.warn(\n",
      "c:\\Users\\Aaron\\AppData\\Local\\pypoetry\\Cache\\virtualenvs\\maze-dataset-zQQMZP3O-py3.10\\lib\\site-packages\\muutils\\json_serialize\\serializable_dataclass.py:171: UserWarning: Cannot compare PromptSequencers.AOP(include_target_special_tokens=False) and PromptSequencers.AOTP() for equality due to classes not matching: <class 'maze_dataset.tokenization.maze_tokenizer.PromptSequencers.AOP'> vs <class 'maze_dataset.tokenization.maze_tokenizer.PromptSequencers.AOTP'>\n",
      "  warnings.warn(\n"
     ]
    }
   ],
   "source": [
    "custom_tokenizer = MazeTokenizer2(\n",
    "    prompt_sequencer=PromptSequencers.AOP(include_target_special_tokens=False),\n",
    ")\n",
    "\n",
    "assert custom_tokenizer not in ALL_TOKENIZERS  # Danger, use at your own risk!"
   ]
  },
  {
   "cell_type": "code",
   "execution_count": null,
   "metadata": {},
   "outputs": [],
   "source": []
  },
  {
   "cell_type": "markdown",
   "metadata": {},
   "source": [
    "### ALL_TOKENIZERS Reference\n",
    "\n",
    "For each tokenizer, tokenizations and encodings of the below maze are logged in a DataFrame for reference."
   ]
  },
  {
   "cell_type": "code",
   "execution_count": 50,
   "metadata": {},
   "outputs": [
    {
     "data": {
      "image/png": "[encoded data removed]",
      "text/plain": [
       "<Figure size 640x480 with 1 Axes>"
      ]
     },
     "metadata": {},
     "output_type": "display_data"
    }
   ],
   "source": [
    "MazePlot(maze_dataset[0]).plot()\n",
    "plt.show()"
   ]
  },
  {
   "cell_type": "code",
   "execution_count": 51,
   "metadata": {},
   "outputs": [
    {
     "data": {
      "text/html": [
       "<div>\n",
       "<style scoped>\n",
       "    .dataframe tbody tr th:only-of-type {\n",
       "        vertical-align: middle;\n",
       "    }\n",
       "\n",
       "    .dataframe tbody tr th {\n",
       "        vertical-align: top;\n",
       "    }\n",
       "\n",
       "    .dataframe thead th {\n",
       "        text-align: right;\n",
       "    }\n",
       "</style>\n",
       "<table border=\"1\" class=\"dataframe\">\n",
       "  <thead>\n",
       "    <tr style=\"text-align: right;\">\n",
       "      <th></th>\n",
       "      <th>tokenizer</th>\n",
       "      <th>tokens</th>\n",
       "      <th>encoding</th>\n",
       "      <th>prompt_sequencer</th>\n",
       "      <th>coord_tokenizer</th>\n",
       "      <th>adj_list_tokenizer</th>\n",
       "      <th>target_tokenizer</th>\n",
       "      <th>path_tokenizer</th>\n",
       "    </tr>\n",
       "  </thead>\n",
       "  <tbody>\n",
       "    <tr>\n",
       "      <th>0</th>\n",
       "      <td>MazeTokenizer2-PromptSequencers.AOTP()-CoordTo...</td>\n",
       "      <td>&lt;ADJLIST_START&gt; (1,2) &lt;--&gt; (0,2) ; (0,0) &lt;--&gt; ...</td>\n",
       "      <td>[0, 1602, 8, 1600, 9, 1596, 8, 1598, 9, 1602, ...</td>\n",
       "      <td>PromptSequencers.AOTP()</td>\n",
       "      <td>CoordTokenizers.UT()</td>\n",
       "      <td>AdjListTokenizers.Coords(intra=True, post=True...</td>\n",
       "      <td>TargetTokenizers.Unlabeled(post=False)</td>\n",
       "      <td>PathTokenizers.Coords(post=False)</td>\n",
       "    </tr>\n",
       "    <tr>\n",
       "      <th>1</th>\n",
       "      <td>MazeTokenizer2-PromptSequencers.AOTP()-CoordTo...</td>\n",
       "      <td>&lt;ADJLIST_START&gt; ( 1 , 1 ) &lt;--&gt; ( 0 , 1 ) ; ( 2...</td>\n",
       "      <td>[0, 11, 321, 12, 321, 13, 8, 11, 320, 12, 321,...</td>\n",
       "      <td>PromptSequencers.AOTP()</td>\n",
       "      <td>CoordTokenizers.CTT(pre=True, intra=True, post...</td>\n",
       "      <td>AdjListTokenizers.Coords(intra=True, post=True...</td>\n",
       "      <td>TargetTokenizers.Unlabeled(post=False)</td>\n",
       "      <td>PathTokenizers.Coords(post=False)</td>\n",
       "    </tr>\n",
       "  </tbody>\n",
       "</table>\n",
       "</div>"
      ],
      "text/plain": [
       "                                           tokenizer  \\\n",
       "0  MazeTokenizer2-PromptSequencers.AOTP()-CoordTo...   \n",
       "1  MazeTokenizer2-PromptSequencers.AOTP()-CoordTo...   \n",
       "\n",
       "                                              tokens  \\\n",
       "0  <ADJLIST_START> (1,2) <--> (0,2) ; (0,0) <--> ...   \n",
       "1  <ADJLIST_START> ( 1 , 1 ) <--> ( 0 , 1 ) ; ( 2...   \n",
       "\n",
       "                                            encoding         prompt_sequencer  \\\n",
       "0  [0, 1602, 8, 1600, 9, 1596, 8, 1598, 9, 1602, ...  PromptSequencers.AOTP()   \n",
       "1  [0, 11, 321, 12, 321, 13, 8, 11, 320, 12, 321,...  PromptSequencers.AOTP()   \n",
       "\n",
       "                                     coord_tokenizer  \\\n",
       "0                               CoordTokenizers.UT()   \n",
       "1  CoordTokenizers.CTT(pre=True, intra=True, post...   \n",
       "\n",
       "                                  adj_list_tokenizer  \\\n",
       "0  AdjListTokenizers.Coords(intra=True, post=True...   \n",
       "1  AdjListTokenizers.Coords(intra=True, post=True...   \n",
       "\n",
       "                         target_tokenizer                     path_tokenizer  \n",
       "0  TargetTokenizers.Unlabeled(post=False)  PathTokenizers.Coords(post=False)  \n",
       "1  TargetTokenizers.Unlabeled(post=False)  PathTokenizers.Coords(post=False)  "
      ]
     },
     "execution_count": 51,
     "metadata": {},
     "output_type": "execute_result"
    }
   ],
   "source": [
    "tokenizers: pd.DataFrame = pd.DataFrame( \n",
    "    columns=[\"tokenizer\", \"tokens\", \"encoding\", *mt_default.summary().keys()]\n",
    "    )\n",
    "tokenizers.tokenizer = ALL_TOKENIZERS\n",
    "tokenizers.tokens = tokenizers.tokenizer.apply(lambda x: \" \".join(maze_dataset[0].as_tokens(x)))\n",
    "tokenizers.encoding = tokenizers.tokens.apply(mt_default.encode)\n",
    "for k in mt_default.summary().keys():\n",
    "    tokenizers[k] = tokenizers.tokenizer.apply(lambda x: getattr(x, k))\n",
    "\n",
    "tokenizers"
   ]
  },
  {
   "cell_type": "code",
   "execution_count": null,
   "metadata": {},
   "outputs": [],
   "source": []
  }
 ],
 "metadata": {
  "kernelspec": {
   "display_name": "maze-dataset-zQQMZP3O-py3.10",
   "language": "python",
   "name": "python3"
  },
  "language_info": {
   "codemirror_mode": {
    "name": "ipython",
    "version": 3
   },
   "file_extension": ".py",
   "mimetype": "text/x-python",
   "name": "python",
   "nbconvert_exporter": "python",
   "pygments_lexer": "ipython3",
   "version": "3.10.11"
  }
 },
 "nbformat": 4,
 "nbformat_minor": 2
}
