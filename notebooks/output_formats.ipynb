{
 "cells": [
  {
   "cell_type": "code",
   "execution_count": null,
   "metadata": {},
   "outputs": [],
   "source": [
    "import matplotlib.pyplot as plt\n",
    "from IPython.display import SVG, display  # noqa: A004\n",
    "\n",
    "from maze_dataset import LatticeMazeGenerators, MazeDataset, MazeDatasetConfig\n",
    "from maze_dataset.plotting.plot_svg_fancy import plot_svg_fancy\n",
    "\n",
    "cfg = MazeDatasetConfig(\n",
    "\tname=\"test\",\n",
    "\tgrid_n=5,\n",
    "\tn_mazes=5,\n",
    "\tmaze_ctor=LatticeMazeGenerators.gen_dfs,\n",
    ")\n",
    "ds = MazeDataset.from_config(cfg)\n",
    "maze = ds[0]\n",
    "pixels = maze.as_pixels()"
   ]
  },
  {
   "cell_type": "code",
   "execution_count": 2,
   "metadata": {},
   "outputs": [
    {
     "data": {
      "text/plain": [
       "(np.float64(-0.5), np.float64(10.5), np.float64(10.5), np.float64(-0.5))"
      ]
     },
     "execution_count": 2,
     "metadata": {},
     "output_type": "execute_result"
    },
    {
     "data": {
      "image/png": "[encoded data removed]",
      "text/plain": [
       "<Figure size 640x480 with 1 Axes>"
      ]
     },
     "metadata": {},
     "output_type": "display_data"
    }
   ],
   "source": [
    "plt.imshow(pixels)\n",
    "plt.axis(\"off\")"
   ]
  },
  {
   "cell_type": "code",
   "execution_count": 3,
   "metadata": {},
   "outputs": [
    {
     "data": {
      "image/svg+xml": [
       "<svg xmlns=\"http://www.w3.org/2000/svg\" width=\"440\" height=\"440\" viewBox=\"0 0 440 440\">\n",
       "  <rect x=\"0\" y=\"0\" width=\"440\" height=\"440\" fill=\"#222\" rx=\"20.0\" ry=\"20.0\"/>\n",
       "  <path d=\"M 48.0,40 L 80,40 L 80,80 L 40,80 L 40,48.0 A 8.0 8.0 0 0 1 48.0,40 Z\" fill=\"#f0f0f0\" stroke=\"none\"/>\n",
       "  <path d=\"M 80,40 L 120,40 L 120,80 L 80,80 L 80,40 Z\" fill=\"#f0f0f0\" stroke=\"none\"/>\n",
       "  <path d=\"M 120,40 L 160,40 L 160,80 L 120,80 L 120,40 Z\" fill=\"#f0f0f0\" stroke=\"none\"/>\n",
       "  <path d=\"M 160,40 L 200,40 L 200,80 L 160,80 L 160,40 Z\" fill=\"#f0f0f0\" stroke=\"none\"/>\n",
       "  <path d=\"M 200,40 L 240,40 L 240,80 L 200,80 L 200,40 Z\" fill=\"#2196f3\" stroke=\"none\"/>\n",
       "  <path d=\"M 240,40 L 280,40 L 280,80 L 240,80 L 240,40 Z\" fill=\"#2196f3\" stroke=\"none\"/>\n",
       "  <path d=\"M 280,40 L 312.0,40 A 8.0 8.0 0 0 1 320,48.0 L 320,80 L 280,80 L 280,40 Z\" fill=\"#2196f3\" stroke=\"none\"/>\n",
       "  <path d=\"M 368.0,40 L 392.0,40 A 8.0 8.0 0 0 1 400,48.0 L 400,80 L 360,80 L 360,48.0 A 8.0 8.0 0 0 1 368.0,40 Z\" fill=\"#f0f0f0\" stroke=\"none\"/>\n",
       "  <path d=\"M 40,80 L 80,80 L 80,120 L 40,120 L 40,80 Z\" fill=\"#f0f0f0\" stroke=\"none\"/>\n",
       "  <path d=\"M 200,80 L 240,80 L 240,120 L 200,120 L 200,80 Z\" fill=\"#2196f3\" stroke=\"none\"/>\n",
       "  <path d=\"M 280,80 L 320,80 L 320,120 L 280,120 L 280,80 Z\" fill=\"#2196f3\" stroke=\"none\"/>\n",
       "  <path d=\"M 360,80 L 400,80 L 400,120 L 360,120 L 360,80 Z\" fill=\"#f0f0f0\" stroke=\"none\"/>\n",
       "  <path d=\"M 40,120 L 80,120 L 80,160 L 48.0,160 A 8.0 8.0 0 0 1 40,152.0 L 40,120 Z\" fill=\"#f0f0f0\" stroke=\"none\"/>\n",
       "  <path d=\"M 80,120 L 120,120 L 120,160 L 80,160 L 80,120 Z\" fill=\"#f0f0f0\" stroke=\"none\"/>\n",
       "  <path d=\"M 120,120 L 152.0,120 A 8.0 8.0 0 0 1 160,128.0 L 160,152.0 A 8.0 8.0 0 0 1 152.0,160 L 120,160 L 120,120 Z\" fill=\"#f0f0f0\" stroke=\"none\"/>\n",
       "  <path d=\"M 200,120 L 240,120 L 240,160 L 200,160 L 200,120 Z\" fill=\"#2196f3\" stroke=\"none\"/>\n",
       "  <path d=\"M 280,120 L 320,120 L 320,160 L 288.0,160 A 8.0 8.0 0 0 1 280,152.0 L 280,120 Z\" fill=\"#4caf50\" stroke=\"none\"/>\n",
       "  <path d=\"M 320,120 L 360,120 L 360,160 L 320,160 L 320,120 Z\" fill=\"#f0f0f0\" stroke=\"none\"/>\n",
       "  <path d=\"M 360,120 L 400,120 L 400,152.0 A 8.0 8.0 0 0 1 392.0,160 L 360,160 L 360,120 Z\" fill=\"#f0f0f0\" stroke=\"none\"/>\n",
       "  <path d=\"M 200,160 L 240,160 L 240,200 L 200,200 L 200,160 Z\" fill=\"#2196f3\" stroke=\"none\"/>\n",
       "  <path d=\"M 48.0,200 L 80,200 L 80,240 L 40,240 L 40,208.0 A 8.0 8.0 0 0 1 48.0,200 Z\" fill=\"#2196f3\" stroke=\"none\"/>\n",
       "  <path d=\"M 80,200 L 120,200 L 120,240 L 80,240 L 80,200 Z\" fill=\"#2196f3\" stroke=\"none\"/>\n",
       "  <path d=\"M 120,200 L 160,200 L 160,240 L 120,240 L 120,200 Z\" fill=\"#2196f3\" stroke=\"none\"/>\n",
       "  <path d=\"M 160,200 L 200,200 L 200,240 L 160,240 L 160,200 Z\" fill=\"#2196f3\" stroke=\"none\"/>\n",
       "  <path d=\"M 200,200 L 240,200 L 240,240 L 200,240 L 200,200 Z\" fill=\"#2196f3\" stroke=\"none\"/>\n",
       "  <path d=\"M 288.0,200 L 320,200 L 320,240 L 288.0,240 A 8.0 8.0 0 0 1 280,232.0 L 280,208.0 A 8.0 8.0 0 0 1 288.0,200 Z\" fill=\"#f44336\" stroke=\"none\"/>\n",
       "  <path d=\"M 320,200 L 360,200 L 360,240 L 320,240 L 320,200 Z\" fill=\"#2196f3\" stroke=\"none\"/>\n",
       "  <path d=\"M 360,200 L 392.0,200 A 8.0 8.0 0 0 1 400,208.0 L 400,240 L 360,240 L 360,200 Z\" fill=\"#2196f3\" stroke=\"none\"/>\n",
       "  <path d=\"M 40,240 L 80,240 L 80,280 L 40,280 L 40,240 Z\" fill=\"#2196f3\" stroke=\"none\"/>\n",
       "  <path d=\"M 200,240 L 240,240 L 240,280 L 200,280 L 200,240 Z\" fill=\"#f0f0f0\" stroke=\"none\"/>\n",
       "  <path d=\"M 360,240 L 400,240 L 400,280 L 360,280 L 360,240 Z\" fill=\"#2196f3\" stroke=\"none\"/>\n",
       "  <path d=\"M 40,280 L 80,280 L 80,320 L 40,320 L 40,280 Z\" fill=\"#2196f3\" stroke=\"none\"/>\n",
       "  <path d=\"M 128.0,280 L 160,280 L 160,320 L 128.0,320 A 8.0 8.0 0 0 1 120,312.0 L 120,288.0 A 8.0 8.0 0 0 1 128.0,280 Z\" fill=\"#f0f0f0\" stroke=\"none\"/>\n",
       "  <path d=\"M 160,280 L 200,280 L 200,320 L 160,320 L 160,280 Z\" fill=\"#f0f0f0\" stroke=\"none\"/>\n",
       "  <path d=\"M 200,280 L 240,280 L 240,320 L 200,320 L 200,280 Z\" fill=\"#f0f0f0\" stroke=\"none\"/>\n",
       "  <path d=\"M 240,280 L 280,280 L 280,320 L 240,320 L 240,280 Z\" fill=\"#f0f0f0\" stroke=\"none\"/>\n",
       "  <path d=\"M 280,280 L 312.0,280 A 8.0 8.0 0 0 1 320,288.0 L 320,312.0 A 8.0 8.0 0 0 1 312.0,320 L 280,320 L 280,280 Z\" fill=\"#f0f0f0\" stroke=\"none\"/>\n",
       "  <path d=\"M 360,280 L 400,280 L 400,320 L 360,320 L 360,280 Z\" fill=\"#2196f3\" stroke=\"none\"/>\n",
       "  <path d=\"M 40,320 L 80,320 L 80,360 L 40,360 L 40,320 Z\" fill=\"#2196f3\" stroke=\"none\"/>\n",
       "  <path d=\"M 360,320 L 400,320 L 400,360 L 360,360 L 360,320 Z\" fill=\"#2196f3\" stroke=\"none\"/>\n",
       "  <path d=\"M 40,360 L 80,360 L 80,400 L 48.0,400 A 8.0 8.0 0 0 1 40,392.0 L 40,360 Z\" fill=\"#2196f3\" stroke=\"none\"/>\n",
       "  <path d=\"M 80,360 L 120,360 L 120,400 L 80,400 L 80,360 Z\" fill=\"#2196f3\" stroke=\"none\"/>\n",
       "  <path d=\"M 120,360 L 160,360 L 160,400 L 120,400 L 120,360 Z\" fill=\"#2196f3\" stroke=\"none\"/>\n",
       "  <path d=\"M 160,360 L 200,360 L 200,400 L 160,400 L 160,360 Z\" fill=\"#2196f3\" stroke=\"none\"/>\n",
       "  <path d=\"M 200,360 L 240,360 L 240,400 L 200,400 L 200,360 Z\" fill=\"#2196f3\" stroke=\"none\"/>\n",
       "  <path d=\"M 240,360 L 280,360 L 280,400 L 240,400 L 240,360 Z\" fill=\"#2196f3\" stroke=\"none\"/>\n",
       "  <path d=\"M 280,360 L 320,360 L 320,400 L 280,400 L 280,360 Z\" fill=\"#2196f3\" stroke=\"none\"/>\n",
       "  <path d=\"M 320,360 L 360,360 L 360,400 L 320,400 L 320,360 Z\" fill=\"#2196f3\" stroke=\"none\"/>\n",
       "  <path d=\"M 360,360 L 400,360 L 400,392.0 A 8.0 8.0 0 0 1 392.0,400 L 360,400 L 360,360 Z\" fill=\"#2196f3\" stroke=\"none\"/>\n",
       "</svg>"
      ],
      "text/plain": [
       "<IPython.core.display.SVG object>"
      ]
     },
     "metadata": {},
     "output_type": "display_data"
    }
   ],
   "source": [
    "svg_string: str = plot_svg_fancy(pixels)\n",
    "\n",
    "display(SVG(svg_string))"
   ]
  },
  {
   "cell_type": "code",
   "execution_count": 4,
   "metadata": {},
   "outputs": [
    {
     "data": {
      "text/plain": [
       "<maze_dataset.plotting.plot_maze.MazePlot at 0x740c982ccaa0>"
      ]
     },
     "execution_count": 4,
     "metadata": {},
     "output_type": "execute_result"
    },
    {
     "data": {
      "image/png": "[encoded data removed]",
      "text/plain": [
       "<Figure size 640x480 with 1 Axes>"
      ]
     },
     "metadata": {},
     "output_type": "display_data"
    }
   ],
   "source": [
    "from maze_dataset.plotting import MazePlot\n",
    "\n",
    "MazePlot(maze).plot(plain=True)"
   ]
  },
  {
   "cell_type": "code",
   "execution_count": 5,
   "metadata": {},
   "outputs": [
    {
     "name": "stdout",
     "output_type": "stream",
     "text": [
      "###########\n",
      "#    XXX# #\n",
      "# ###X#X# #\n",
      "#   #X#S  #\n",
      "#####X#####\n",
      "#XXXXX#EXX#\n",
      "#X### ###X#\n",
      "#X#     #X#\n",
      "#X#######X#\n",
      "#XXXXXXXXX#\n",
      "###########\n"
     ]
    }
   ],
   "source": [
    "print(maze.as_ascii())"
   ]
  },
  {
   "cell_type": "code",
   "execution_count": 6,
   "metadata": {},
   "outputs": [
    {
     "name": "stdout",
     "output_type": "stream",
     "text": [
      "<span style=\"color: black; background-color: rgb(176,152,232)\">&nbsp&lt;ADJLIST_START&gt; (0,0) &lt;--&gt; (1,0) ; (2,0) &lt;--&gt; (3,0) ; (4,1) &lt;--&gt; (4,0) ; (2,0) &lt;--&gt; (2,1) ; (1,0) &lt;--&gt; (1,1) ; (3,4) &lt;--&gt; (2,4) ; (4,2) &lt;--&gt; (4,3) ; (0,0) &lt;--&gt; (0,1) ; (0,3) &lt;--&gt; (0,2) ; (4,4) &lt;--&gt; (3,4) ; (4,3) &lt;--&gt; (4,4) ; (4,1) &lt;--&gt; (4,2) ; (2,1) &lt;--&gt; (2,2) ; (1,4) &lt;--&gt; (0,4) ; (1,2) &lt;--&gt; (0,2) ; (2,4) &lt;--&gt; (2,3) ; (4,0) &lt;--&gt; (3,0) ; (2,2) &lt;--&gt; (3,2) ; (1,2) &lt;--&gt; (2,2) ; (1,3) &lt;--&gt; (0,3) ; (3,2) &lt;--&gt; (3,3) ; (0,2) &lt;--&gt; (0,1) ; (3,1) &lt;--&gt; (3,2) ; (1,3) &lt;--&gt; (1,4) ; &lt;ADJLIST_END&gt;&nbsp</span> <span style=\"color: black; background-color: rgb(154,239,123)\">&nbsp&lt;ORIGIN_START&gt; (1,3) &lt;ORIGIN_END&gt;&nbsp</span> <span style=\"color: black; background-color: rgb(246,136,136)\">&nbsp&lt;TARGET_START&gt; (2,3) &lt;TARGET_END&gt;&nbsp</span> <span style=\"color: black; background-color: rgb(111,187,254)\">&nbsp&lt;PATH_START&gt; (1,3) (0,3) (0,2) (1,2) (2,2) (2,1) (2,0) (3,0) (4,0) (4,1) (4,2) (4,3) (4,4) (3,4) (2,4) (2,3) &lt;PATH_END&gt;&nbsp</span>\n"
     ]
    }
   ],
   "source": [
    "from maze_dataset.plotting.print_tokens import (\n",
    "\tcolor_maze_tokens_AOTP,\n",
    ")\n",
    "from maze_dataset.tokenization import MazeTokenizer\n",
    "\n",
    "print(color_maze_tokens_AOTP(maze.as_tokens(MazeTokenizer()), \"html\"))"
   ]
  }
 ],
 "metadata": {
  "kernelspec": {
   "display_name": ".venv",
   "language": "python",
   "name": "python3"
  },
  "language_info": {
   "codemirror_mode": {
    "name": "ipython",
    "version": 3
   },
   "file_extension": ".py",
   "mimetype": "text/x-python",
   "name": "python",
   "nbconvert_exporter": "python",
   "pygments_lexer": "ipython3",
   "version": "3.12.7"
  }
 },
 "nbformat": 4,
 "nbformat_minor": 2
}
