{
 "cells": [
  {
   "cell_type": "markdown",
   "metadata": {},
   "source": [
    "# testing readme.md examples\n",
    "\n",
    "if anything here breaks, be sure to adjust the `README.md` (but you probably should not break the functionality demonstrated here)"
   ]
  },
  {
   "cell_type": "code",
   "execution_count": null,
   "metadata": {},
   "outputs": [],
   "source": [
    "import matplotlib.pyplot as plt\n",
    "\n",
    "from maze_dataset import MazeDataset, MazeDatasetConfig\n",
    "from maze_dataset.generation import LatticeMazeGenerators\n",
    "from maze_dataset.plotting import MazePlot\n",
    "from maze_dataset.tokenization import (\n",
    "\tMazeTokenizerModular,\n",
    "\tPromptSequencers,\n",
    ")"
   ]
  },
  {
   "cell_type": "markdown",
   "metadata": {},
   "source": [
    "To create a `MazeDataset`, you first create a `MazeDatasetConfig`:"
   ]
  },
  {
   "cell_type": "code",
   "execution_count": null,
   "metadata": {},
   "outputs": [],
   "source": [
    "cfg: MazeDatasetConfig = MazeDatasetConfig(\n",
    "\tname=\"test\",  # name is only for you to keep track of things\n",
    "\tgrid_n=5,  # number of rows/columns in the lattice\n",
    "\tn_mazes=4,  # number of mazes to generate\n",
    "\tmaze_ctor=LatticeMazeGenerators.gen_dfs,  # algorithm to generate the maze\n",
    "\tmaze_ctor_kwargs=dict(\n",
    "\t\tdo_forks=False\n",
    "\t),  # additional parameters to pass to the maze generation algorithm\n",
    ")"
   ]
  },
  {
   "cell_type": "markdown",
   "metadata": {},
   "source": [
    "and then pass this config to the `MazeDataset.from_config` method:"
   ]
  },
  {
   "cell_type": "code",
   "execution_count": 3,
   "metadata": {},
   "outputs": [],
   "source": [
    "dataset: MazeDataset = MazeDataset.from_config(cfg)"
   ]
  },
  {
   "cell_type": "markdown",
   "metadata": {},
   "source": [
    "This method can search for whether a dataset with matching config hash already exists on your filesystem in the expected location, and load it if so. It can also generate a dataset on the fly if needed.\n",
    "\n",
    "## Conversions to useful formats\n",
    "\n",
    "The elements of the dataset are [`SolvedMaze`](maze_dataset/maze/lattice_maze.py) objects:"
   ]
  },
  {
   "cell_type": "code",
   "execution_count": 4,
   "metadata": {},
   "outputs": [
    {
     "data": {
      "text/plain": [
       "maze_dataset.maze.lattice_maze.SolvedMaze"
      ]
     },
     "execution_count": 4,
     "metadata": {},
     "output_type": "execute_result"
    }
   ],
   "source": [
    "m = dataset[0]\n",
    "type(m)"
   ]
  },
  {
   "cell_type": "markdown",
   "metadata": {},
   "source": [
    "Which can be converted to a variety of formats:"
   ]
  },
  {
   "cell_type": "code",
   "execution_count": 5,
   "metadata": {},
   "outputs": [
    {
     "name": "stdout",
     "output_type": "stream",
     "text": [
      "###########\n",
      "# # # # # #\n",
      "###########\n",
      "# # # # # #\n",
      "###########\n",
      "#     #  E#\n",
      "# ### ###X#\n",
      "# # #   #X#\n",
      "# #######X#\n",
      "#        S#\n",
      "###########\n"
     ]
    }
   ],
   "source": [
    "# visual representation as ascii art\n",
    "print(m.as_ascii())"
   ]
  },
  {
   "cell_type": "code",
   "execution_count": null,
   "metadata": {},
   "outputs": [
    {
     "data": {
      "text/plain": [
       "<matplotlib.image.AxesImage at 0x708d729244a0>"
      ]
     },
     "execution_count": 6,
     "metadata": {},
     "output_type": "execute_result"
    },
    {
     "data": {
      "image/png": "[encoded data removed]",
      "text/plain": [
       "<Figure size 640x480 with 1 Axes>"
      ]
     },
     "metadata": {},
     "output_type": "display_data"
    }
   ],
   "source": [
    "# RGB image, optionally without solution or endpoints, suitable for CNNs\n",
    "\n",
    "plt.imshow(m.as_pixels())"
   ]
  },
  {
   "cell_type": "code",
   "execution_count": null,
   "metadata": {},
   "outputs": [
    {
     "data": {
      "text/plain": [
       "['<ADJLIST_START>',\n",
       " '(4,3)',\n",
       " '<-->',\n",
       " '(4,4)',\n",
       " ';',\n",
       " '(4,0)',\n",
       " '<-->',\n",
       " '(4,1)',\n",
       " ';',\n",
       " '(2,2)',\n",
       " '<-->',\n",
       " '(3,2)',\n",
       " ';',\n",
       " '(2,0)',\n",
       " '<-->',\n",
       " '(2,1)',\n",
       " ';',\n",
       " '(3,4)',\n",
       " '<-->',\n",
       " '(4,4)',\n",
       " ';',\n",
       " '(3,0)',\n",
       " '<-->',\n",
       " '(2,0)',\n",
       " ';',\n",
       " '(3,3)',\n",
       " '<-->',\n",
       " '(3,2)',\n",
       " ';',\n",
       " '(2,3)',\n",
       " '<-->',\n",
       " '(2,4)',\n",
       " ';',\n",
       " '(4,3)',\n",
       " '<-->',\n",
       " '(4,2)',\n",
       " ';',\n",
       " '(3,4)',\n",
       " '<-->',\n",
       " '(2,4)',\n",
       " ';',\n",
       " '(4,1)',\n",
       " '<-->',\n",
       " '(4,2)',\n",
       " ';',\n",
       " '(3,0)',\n",
       " '<-->',\n",
       " '(4,0)',\n",
       " ';',\n",
       " '(2,1)',\n",
       " '<-->',\n",
       " '(2,2)',\n",
       " ';',\n",
       " '<ADJLIST_END>',\n",
       " '<ORIGIN_START>',\n",
       " '(4,4)',\n",
       " '<ORIGIN_END>',\n",
       " '<TARGET_START>',\n",
       " '(2,4)',\n",
       " '<TARGET_END>',\n",
       " '<PATH_START>',\n",
       " '(4,4)',\n",
       " '(3,4)',\n",
       " '(2,4)',\n",
       " '<PATH_END>']"
      ]
     },
     "execution_count": 7,
     "metadata": {},
     "output_type": "execute_result"
    }
   ],
   "source": [
    "# text format for autoreregressive transformers\n",
    "\n",
    "\n",
    "m.as_tokens(\n",
    "\tmaze_tokenizer=MazeTokenizerModular(\n",
    "\t\tprompt_sequencer=PromptSequencers.AOTP(),  # many options here\n",
    "\t)\n",
    ")"
   ]
  },
  {
   "cell_type": "code",
   "execution_count": null,
   "metadata": {},
   "outputs": [
    {
     "data": {
      "text/plain": [
       "<maze_dataset.plotting.plot_maze.MazePlot at 0x708d7297fa40>"
      ]
     },
     "execution_count": 8,
     "metadata": {},
     "output_type": "execute_result"
    },
    {
     "data": {
      "image/png": "[encoded data removed]",
      "text/plain": [
       "<Figure size 640x480 with 1 Axes>"
      ]
     },
     "metadata": {},
     "output_type": "display_data"
    }
   ],
   "source": [
    "# advanced visualization with many features\n",
    "\n",
    "MazePlot(m).plot()"
   ]
  }
 ],
 "metadata": {
  "kernelspec": {
   "display_name": ".venv",
   "language": "python",
   "name": "python3"
  },
  "language_info": {
   "codemirror_mode": {
    "name": "ipython",
    "version": 3
   },
   "file_extension": ".py",
   "mimetype": "text/x-python",
   "name": "python",
   "nbconvert_exporter": "python",
   "pygments_lexer": "ipython3",
   "version": "3.13.2"
  }
 },
 "nbformat": 4,
 "nbformat_minor": 2
}
