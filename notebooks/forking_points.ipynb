{
 "cells": [
  {
   "cell_type": "code",
   "execution_count": 1,
   "metadata": {},
   "outputs": [
    {
     "name": "stdout",
     "output_type": "stream",
     "text": [
      "dict_keys(['test-g3-n5-a_dfs-h75556', 'demo_small-g3-n100-a_dfs-h88371', 'demo-g6-n10K-a_dfs-h30615'])\n"
     ]
    }
   ],
   "source": [
    "# other package imports\n",
    "import matplotlib.pyplot as plt # keep this import for CI to work\n",
    "from zanj import ZANJ # saving/loading data\n",
    "from muutils.mlutils import pprint_summary # pretty printing as json\n",
    "\n",
    "# maze_dataset imports\n",
    "from maze_dataset import LatticeMaze, SolvedMaze, MazeDataset, MazeDatasetConfig\n",
    "from maze_dataset.generation import LatticeMazeGenerators, GENERATORS_MAP\n",
    "from maze_dataset.generation.default_generators import DEFAULT_GENERATORS\n",
    "from maze_dataset.dataset.configs import MAZE_DATASET_CONFIGS\n",
    "from maze_dataset.plotting import plot_dataset_mazes, print_dataset_mazes, MazePlot\n",
    "\n",
    "# check the configs\n",
    "print(MAZE_DATASET_CONFIGS.keys())\n",
    "# for saving/loading things\n",
    "LOCAL_DATA_PATH: str = \"../data/maze_dataset/\"\n",
    "zanj: ZANJ = ZANJ(external_list_threshold=256)"
   ]
  },
  {
   "cell_type": "code",
   "execution_count": 2,
   "metadata": {},
   "outputs": [],
   "source": [
    "# magic autoreload\n",
    "%load_ext autoreload\n",
    "%autoreload 2"
   ]
  },
  {
   "cell_type": "code",
   "execution_count": 48,
   "metadata": {},
   "outputs": [
    {
     "name": "stdout",
     "output_type": "stream",
     "text": [
      "test-g5-n4-a_dfs-h84708\n"
     ]
    }
   ],
   "source": [
    "cfg: MazeDatasetConfig = MazeDatasetConfig(\n",
    "\tname=\"test\", # name is only for you to keep track of things\n",
    "\tgrid_n=5, # number of rows/columns in the lattice\n",
    "\tn_mazes=4, # number of mazes to generate\n",
    "\tmaze_ctor=LatticeMazeGenerators.gen_dfs, # algorithm to generate the maze\n",
    ")\n",
    "\n",
    "# each config will use this function to get the name of the dataset\n",
    "# it contains some basic info about the algorithm, size, and number of mazes\n",
    "# at the end after \"h\" is a stable hash of the config to avoid collisions\n",
    "print(cfg.to_fname())"
   ]
  },
  {
   "cell_type": "code",
   "execution_count": 49,
   "metadata": {},
   "outputs": [],
   "source": [
    "data = MazeDataset.from_config(cfg)\n",
    "maze = data[0]"
   ]
  },
  {
   "cell_type": "code",
   "execution_count": 50,
   "metadata": {},
   "outputs": [
    {
     "name": "stdout",
     "output_type": "stream",
     "text": [
      "###########\n",
      "#    XXX# #\n",
      "# ###X#X# #\n",
      "#   #X#S  #\n",
      "#####X#####\n",
      "#XXXXX#EXX#\n",
      "#X### ###X#\n",
      "#X#     #X#\n",
      "#X#######X#\n",
      "#XXXXXXXXX#\n",
      "###########\n"
     ]
    },
    {
     "data": {
      "text/plain": [
       "<matplotlib.image.AxesImage at 0x2b091c2e310>"
      ]
     },
     "execution_count": 50,
     "metadata": {},
     "output_type": "execute_result"
    },
    {
     "data": {
      "image/png": "[encoded data removed]",
      "text/plain": [
       "<Figure size 640x480 with 1 Axes>"
      ]
     },
     "metadata": {},
     "output_type": "display_data"
    }
   ],
   "source": [
    "print(maze.as_ascii())\n",
    "plt.imshow(maze.as_pixels())"
   ]
  },
  {
   "cell_type": "code",
   "execution_count": 51,
   "metadata": {},
   "outputs": [
    {
     "name": "stdout",
     "output_type": "stream",
     "text": [
      "{'fork_idxs': [0, 2, 4], 'fork_coords': [[1, 3], [0, 2], [2, 2]], 'follow_idxs': array([ 1,  3,  5,  6,  7,  8,  9, 10, 11, 12, 13, 14, 15]), 'follow_coords': [[0, 3], [1, 2], [2, 1], [2, 0], [3, 0], [4, 0], [4, 1], [4, 2], [4, 3], [4, 4], [3, 4], [2, 4], [2, 3]]}\n"
     ]
    }
   ],
   "source": [
    "fork_idxs, fork_coords = maze.get_solution_forking_points()\n",
    "follow_idxs, follow_coords = maze.get_solution_path_following_points()\n",
    "\n",
    "print(dict(\n",
    "\tfork_idxs=fork_idxs, \n",
    "\tfork_coords=fork_coords.tolist(), \n",
    "\tfollow_idxs=follow_idxs, \n",
    "\tfollow_coords=follow_coords.tolist(),\n",
    "))\n"
   ]
  },
  {
   "cell_type": "code",
   "execution_count": 52,
   "metadata": {},
   "outputs": [
    {
     "name": "stdout",
     "output_type": "stream",
     "text": [
      "[(array([1, 3]), {'marker': 's', 'color': 'green'}), (array([0, 2]), {'marker': 's', 'color': 'green'}), (array([2, 2]), {'marker': 's', 'color': 'green'}), (array([0, 3]), {'marker': '+', 'color': 'blue'}), (array([1, 2]), {'marker': '+', 'color': 'blue'}), (array([2, 1]), {'marker': '+', 'color': 'blue'}), (array([2, 0]), {'marker': '+', 'color': 'blue'}), (array([3, 0]), {'marker': '+', 'color': 'blue'}), (array([4, 0]), {'marker': '+', 'color': 'blue'}), (array([4, 1]), {'marker': '+', 'color': 'blue'}), (array([4, 2]), {'marker': '+', 'color': 'blue'}), (array([4, 3]), {'marker': '+', 'color': 'blue'}), (array([4, 4]), {'marker': '+', 'color': 'blue'}), (array([3, 4]), {'marker': '+', 'color': 'blue'}), (array([2, 4]), {'marker': '+', 'color': 'blue'}), (array([2, 3]), {'marker': '+', 'color': 'blue'})]\n"
     ]
    },
    {
     "data": {
      "image/png": "[encoded data removed]",
      "text/plain": [
       "<Figure size 640x480 with 1 Axes>"
      ]
     },
     "metadata": {},
     "output_type": "display_data"
    }
   ],
   "source": [
    "mp: MazePlot = MazePlot(maze)\n",
    "mp.mark_coords(fork_coords, color=\"green\", marker=\"s\")\n",
    "mp.mark_coords(follow_coords)\n",
    "print(mp.marked_coords)\n",
    "mp.plot()"
   ]
  }
 ],
 "metadata": {
  "kernelspec": {
   "display_name": "maze-dataset-K69OfPxp-py3.11",
   "language": "python",
   "name": "python3"
  },
  "language_info": {
   "codemirror_mode": {
    "name": "ipython",
    "version": 3
   },
   "file_extension": ".py",
   "mimetype": "text/x-python",
   "name": "python",
   "nbconvert_exporter": "python",
   "pygments_lexer": "ipython3",
   "version": "3.11.4"
  },
  "orig_nbformat": 4
 },
 "nbformat": 4,
 "nbformat_minor": 2
}
