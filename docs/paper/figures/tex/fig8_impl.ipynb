{
 "cells": [
  {
   "cell_type": "code",
   "execution_count": 1,
   "metadata": {},
   "outputs": [],
   "source": [
    "import matplotlib.pyplot as plt\n",
    "import numpy as np\n",
    "\n",
    "from maze_dataset import MazeDataset, MazeDatasetConfig, SolvedMaze\n",
    "from maze_dataset.generation import LatticeMazeGenerators\n",
    "\n",
    "\n",
    "def bool_array_to_latex(arr: np.ndarray) -> str:\n",
    "\t\"\"\"Convert boolean numpy array to LaTeX matrix string with 0,1 values\"\"\"\n",
    "\tint_arr = arr.astype(int)\n",
    "\trows = []\n",
    "\tfor row in int_arr:\n",
    "\t\trow_str = \" & \".join(map(str, row))\n",
    "\t\trows.append(row_str)\n",
    "\n",
    "\tmatrix_content = \" \\\\\\\\\\n\".join(rows)\n",
    "\treturn f\"\\\\begin{{bmatrix}}\\n{matrix_content}\\n\\\\end{{bmatrix}}\""
   ]
  },
  {
   "cell_type": "code",
   "execution_count": 2,
   "metadata": {},
   "outputs": [],
   "source": [
    "cfg: MazeDatasetConfig = MazeDatasetConfig(\n",
    "\tname=\"test\",\n",
    "\tgrid_n=3,\n",
    "\tn_mazes=4,\n",
    "\tmaze_ctor=LatticeMazeGenerators.gen_dfs,\n",
    ")\n",
    "\n",
    "dataset: MazeDataset = MazeDataset.from_config(cfg, save_local=False, load_local=False)\n",
    "maze: SolvedMaze = dataset.mazes[1]"
   ]
  },
  {
   "cell_type": "code",
   "execution_count": 3,
   "metadata": {},
   "outputs": [
    {
     "data": {
      "image/png": "[encoded data removed]",
      "text/plain": [
       "<Figure size 640x480 with 1 Axes>"
      ]
     },
     "metadata": {},
     "output_type": "display_data"
    }
   ],
   "source": [
    "plt.imshow(maze.as_pixels(show_endpoints=False, show_solution=False))\n",
    "plt.axis(\"off\")\n",
    "plt.savefig(\"maze-impl.pdf\", bbox_inches=\"tight\", pad_inches=0.01)"
   ]
  },
  {
   "cell_type": "code",
   "execution_count": 4,
   "metadata": {},
   "outputs": [
    {
     "name": "stdout",
     "output_type": "stream",
     "text": [
      "\\begin{bmatrix}\n",
      "1 & 1 & 1 \\\\\n",
      "0 & 0 & 1 \\\\\n",
      "0 & 0 & 0\n",
      "\\end{bmatrix}\n",
      "\\begin{bmatrix}\n",
      "1 & 0 & 0 \\\\\n",
      "0 & 1 & 0 \\\\\n",
      "1 & 1 & 0\n",
      "\\end{bmatrix}\n"
     ]
    }
   ],
   "source": [
    "print(bool_array_to_latex(maze.connection_list[0]))\n",
    "print(bool_array_to_latex(maze.connection_list[1]))"
   ]
  }
 ],
 "metadata": {
  "kernelspec": {
   "display_name": ".venv",
   "language": "python",
   "name": "python3"
  },
  "language_info": {
   "codemirror_mode": {
    "name": "ipython",
    "version": 3
   },
   "file_extension": ".py",
   "mimetype": "text/x-python",
   "name": "python",
   "nbconvert_exporter": "python",
   "pygments_lexer": "ipython3",
   "version": "3.13.2"
  }
 },
 "nbformat": 4,
 "nbformat_minor": 2
}
